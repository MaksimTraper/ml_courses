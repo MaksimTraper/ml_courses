{
 "cells": [
  {
   "cell_type": "markdown",
   "id": "21fa2e13-567d-4509-9023-c99fb230f31f",
   "metadata": {},
   "source": [
    "# Lesson 2 : LangGraph Components"
   ]
  },
  {
   "cell_type": "code",
   "execution_count": 1,
   "id": "f5762271-8736-4e94-9444-8c92bd0e8074",
   "metadata": {
    "height": 47
   },
   "outputs": [],
   "source": [
    "import os\n",
    "from typing import TypedDict, Annotated\n",
    "import operator\n",
    "from dotenv import load_dotenv, find_dotenv\n",
    "\n",
    "#from gigachat.models import Chat, Messages, MessagesRole, chat_completion\n",
    "from langchain_gigachat.chat_models import GigaChat\n",
    "from langgraph.graph import StateGraph, END\n",
    "from langchain_core.messages import AnyMessage, SystemMessage, HumanMessage, ToolMessage\n",
    "from langchain_community.tools.tavily_search import TavilySearchResults\n",
    "\n",
    "_ = load_dotenv(find_dotenv())\n",
    "\n",
    "api_key  = os.getenv('GIGACHAT_API_KEY')\n",
    "\n",
    "model = GigaChat(credentials=api_key, verify_ssl_certs=False, temperature = 0)"
   ]
  },
  {
   "cell_type": "code",
   "execution_count": 2,
   "id": "2589c5b6-6cc2-4594-9a17-dccdcf676054",
   "metadata": {
    "height": 81
   },
   "outputs": [
    {
     "name": "stdout",
     "output_type": "stream",
     "text": [
      "<class 'langchain_community.tools.tavily_search.tool.TavilySearchResults'>\n",
      "tavily_search_results_json\n"
     ]
    }
   ],
   "source": [
    "tool = TavilySearchResults(max_results=4) #increased number of results\n",
    "print(type(tool))\n",
    "print(tool.name)"
   ]
  },
  {
   "cell_type": "markdown",
   "id": "e196c186-af55-4f2d-b569-b7d63a859304",
   "metadata": {},
   "source": [
    "> Если вы не знакомы с аннотациями к набору текста на python, вы можете обратиться к [документам на python](https://docs.python.org/3/library/typing.html).\n",
    "\n",
    "> If you are not familiar with python typing annotation, you can refer to the [python documents](https://docs.python.org/3/library/typing.html)."
   ]
  },
  {
   "cell_type": "code",
   "execution_count": 3,
   "id": "a2ba84ec-c172-4de7-ac55-e3158a531b23",
   "metadata": {
    "height": 47
   },
   "outputs": [],
   "source": [
    "class AgentState(TypedDict):\n",
    "    messages: Annotated[list[AnyMessage], operator.add]"
   ]
  },
  {
   "cell_type": "markdown",
   "id": "74c7ba73-e603-453b-b06f-5db92c567b19",
   "metadata": {},
   "source": [
    "> Примечание: в `take_action`, приведенном ниже, была добавлена некоторая логика, чтобы учесть случай, когда LLM возвращает несуществующее имя инструмента. Даже при вызове функции LLM все равно может иногда вызывать галлюцинации. Обратите внимание, что все, что делается, - это указание LLM повторить попытку! Преимущество агентурной организации.\n",
    "\n",
    "> Note: in `take_action` below, some logic was added to cover the case that the LLM returned a non-existent tool name. Even with function calling, LLMs can still occasionally hallucinate. Note that all that is done is instructing the LLM to try again! An advantage of an agentic organization."
   ]
  },
  {
   "cell_type": "code",
   "execution_count": 4,
   "id": "876d5092-b8ef-4e38-b4d7-0e80c609bf7a",
   "metadata": {
    "height": 744
   },
   "outputs": [],
   "source": [
    "class Agent:\n",
    "\n",
    "    def __init__(self, model, tools, system=\"\"):\n",
    "        self.system = system\n",
    "        graph = StateGraph(AgentState)\n",
    "        graph.add_node(\"llm\", self.call_openai)\n",
    "        graph.add_node(\"action\", self.take_action)\n",
    "        graph.add_conditional_edges(\n",
    "            \"llm\",\n",
    "            self.exists_action,\n",
    "            {True: \"action\", False: END}\n",
    "        )\n",
    "        graph.add_edge(\"action\", \"llm\")\n",
    "        graph.set_entry_point(\"llm\")\n",
    "        self.graph = graph.compile()\n",
    "        self.tools = {t.name: t for t in tools}\n",
    "        self.model = model.bind_tools(tools)\n",
    "\n",
    "    def exists_action(self, state: AgentState):\n",
    "        result = state['messages'][-1]\n",
    "        return len(result.tool_calls) > 0\n",
    "\n",
    "    def call_openai(self, state: AgentState):\n",
    "        messages = state['messages']\n",
    "        if self.system:\n",
    "            messages = [SystemMessage(content=self.system)] + messages\n",
    "        message = self.model.invoke(messages)\n",
    "        return {'messages': [message]}\n",
    "\n",
    "    def take_action(self, state: AgentState):\n",
    "        tool_calls = state['messages'][-1].tool_calls\n",
    "        results = []\n",
    "        for t in tool_calls:\n",
    "            print(f\"Calling: {t}\")\n",
    "            if not t['name'] in self.tools:      # check for bad tool name from LLM\n",
    "                print(\"\\n ....bad tool name....\")\n",
    "                result = \"bad tool name, retry\"  # instruct LLM to retry if bad\n",
    "            else:\n",
    "                result = self.tools[t['name']].invoke(t['args'])\n",
    "            results.append(ToolMessage(tool_call_id=t['id'], name=t['name'], content=str(result)))\n",
    "        print(\"Back to the model!\")\n",
    "        return {'messages': results}"
   ]
  },
  {
   "cell_type": "code",
   "execution_count": 5,
   "id": "10084a02-2928-4945-9f7c-ad3f5b33caf7",
   "metadata": {
    "height": 166
   },
   "outputs": [],
   "source": [
    "prompt = \"\"\"\n",
    "Вы - толковый научный сотрудник. Используйте поисковую систему для поиска информации. \\\n",
    "Вам разрешено совершать несколько звонков (как одновременно, так и последовательно). \\\n",
    "Ищите информацию только тогда, когда вы уверены в том, что вам нужно. \\\n",
    "Если вам нужно найти какую-то информацию, прежде чем задать уточняющий вопрос, вы можете это сделать!\n",
    "\"\"\"\n",
    "\n",
    "abot = Agent(model, [tool], system=prompt)"
   ]
  },
  {
   "cell_type": "code",
   "execution_count": 6,
   "id": "a3d6f5f4-2392-41b9-ab96-7919840baa3e",
   "metadata": {
    "height": 65
   },
   "outputs": [
    {
     "data": {
      "image/png": "[encoded data removed]",
      "text/plain": [
       "<IPython.core.display.Image object>"
      ]
     },
     "execution_count": 6,
     "metadata": {},
     "output_type": "execute_result"
    }
   ],
   "source": [
    "from IPython.display import Image\n",
    "\n",
    "Image(abot.graph.get_graph().draw_png())"
   ]
  },
  {
   "cell_type": "code",
   "execution_count": 7,
   "id": "83588e70-254f-4f83-a510-c8ae81e729b0",
   "metadata": {
    "height": 64
   },
   "outputs": [
    {
     "name": "stdout",
     "output_type": "stream",
     "text": [
      "Calling: {'name': 'tavily_search_results_json', 'args': {'query': 'погода в СПБ'}, 'id': 'c733d259-abba-4725-a1ad-991d0b9c7a66', 'type': 'tool_call'}\n",
      "Back to the model!\n"
     ]
    }
   ],
   "source": [
    "messages = [HumanMessage(content=\"Какая погода в СПБ?\")]\n",
    "result = abot.graph.invoke({\"messages\": messages})"
   ]
  },
  {
   "cell_type": "code",
   "execution_count": 8,
   "id": "89a06a8c-fcd4-4ca6-98f0-36c5809813e6",
   "metadata": {
    "height": 31,
    "scrolled": true
   },
   "outputs": [
    {
     "data": {
      "text/plain": [
       "{'messages': [HumanMessage(content='Какая погода в СПБ?', additional_kwargs={}, response_metadata={}),\n",
       "  AIMessage(content='', additional_kwargs={'function_call': {'name': 'tavily_search_results_json', 'arguments': {'query': 'погода в СПБ'}}, 'functions_state_id': '5f3e037f-c30a-46bc-80c0-57eaed9ebe3d'}, response_metadata={'token_usage': {'prompt_tokens': 195, 'completion_tokens': 36, 'total_tokens': 231}, 'model_name': 'GigaChat:1.0.26.20', 'finish_reason': 'function_call'}, id='run-3a257e44-1f29-49be-ad3b-ff9057834652-0', tool_calls=[{'name': 'tavily_search_results_json', 'args': {'query': 'погода в СПБ'}, 'id': 'c733d259-abba-4725-a1ad-991d0b9c7a66', 'type': 'tool_call'}]),\n",
       "  ToolMessage(content=\"[{'url': 'https://www.meteoservice.ru/weather/today/sankt-peterburg', 'content': 'Санкт-Петербурге сегодня по часам\\\\nКарточки погоды на сегодня\\\\nХарактер погоды\\\\nТемпература\\\\nВетер\\\\nОсадки\\\\nХарактер погоды\\\\nТемпература\\\\nВетер\\\\nОсадки\\\\nПогода в Санкт-Петербурге по часам\\\\nСегодня в Санкт-Петербурге ожидается облачная зябкая погода. Новости погоды\\\\nДалее погода в Санкт-Петербурге\\\\nУзнайте больше о погоде в Санкт-Петербурге\\\\nИнтересует, какая погода сегодня на день или ночь, 15 марта, в Санкт-Петербурге? Пятница, 15 марта\\\\nУтром\\\\nДнем\\\\nВечером\\\\nЧасто задаваемые вопросы о погоде сегодня в Санкт-Петербурге\\\\nПогода в Санкт-Петербурге сегодня днем зябкая облачная.\\\\n На первой карточке уже проанализирован подробный прогноз погоды в Санкт-Петербурге на сегодня на день и ночь, и выделено, какая погода сегодня преобладает, в котором часу ожидается лучшая и худшая погода в Для более детального анализа раздел «Погода сегодня в Санкт-Петербурге» предлагает таблицы с подробным прогнозом по часам, в которых наглядно показано, в какое время 15 марта какая ожидается погода, температура воздуха, температура по ощущениям, какова вероятность осадков, какое количество осадков, а также ветер, давление и относительная влажность воздуха.\\\\n'}, {'url': 'https://yandex.ru/pogoda/saint-petersburg', 'content': 'Прогноз погоды в Санкт-Петербурге на 10 дней — Яндекс.Погода В 10 часов дождь со снегом, +2° В 11 часов дождь со снегом, +2° В 12 часов дождь со снегом, +2° В 18 часов дождь со снегом, +2° В 10 часов дождь со снегом, +2° В 11 часов дождь со снегом, +1° В 12 часов дождь со снегом, +1° В 13 часов дождь со снегом, +1° В 14 часов дождь со снегом, +1° В 15 часов дождь со снегом, +1° В 16 часов дождь со снегом, +1° В 17 часов дождь со снегом, +1° В 18 часов дождь со снегом, +1° В 19 часов дождь со снегом, +2° В 20 часов дождь со снегом, +2° В 21 час дождь со снегом, +2°'}, {'url': 'https://www.gismeteo.ru/weather-sankt-peterburg-4079/', 'content': 'GISMETEO: Погода в Санкт-Петербурге сегодня, прогноз погоды Санкт-Петербург на сегодня, Санкт-Петербург (город федерального значения), Россия Умер экс-солист группы «На-На» Владимир ЛевкинКремль не согласен на заморозку конфликта по линии фронтаРоссийская армия нанесла массированный удар по УкраинеМосквичи отвернулись от ипотекиРоссияне могут остаться без икрыКто, когда и зачем ввел фамилии на РусиПри ударе ВСУ погибла главный редактор «Народной газеты»Эрдоган представит мирный план с ультиматумом для ЗеленскогоВ Абхазии оппозиция выдвинула новые требованияСеверный магнитный полюс изменил темп движения в сторону РоссииСанду раскритиковала удар России по инфраструктуре УкраиныТуск: следующие недели станут решающими для УкраиныКак сейчас выглядит Селидово: кадры из освобожденного городаВ ОЭСР объяснили смысл смены профессии после 45 летВ РФ задумались о строительстве альтернативы «Силы Сибири — 2»В Абхазии попытались захватить гостелерадиокомпаниюЯдовитых медуз с огромными щупальцами вынесло на пляж КорнуоллаПервая леди Бразилии оскорбила Маска на мероприятии G20В России с 2025 года могут увеличить штрафы за нарушение ПДДЮг России захватывают пустыни Прогноз погоды в Санкт-Петербурге на сегодня подготовлен НПЦ «Мэп Мейкер».'}, {'url': 'https://world-weather.ru/pogoda/russia/saint_petersburg/', 'content': 'Точный прогноз погоды в Санкт-Петербурге на сегодня, завтра, неделю. 🌡️ Информация о температуре воздуха, силе ветра, давлении и влажности воздуха в Санкт-Петербурге (Ленинградская область, Россия) - World-Weather.ru'}]\", name='tavily_search_results_json', tool_call_id='c733d259-abba-4725-a1ad-991d0b9c7a66'),\n",
       "  AIMessage(content='Погода в Санкт-Петербурге на данный момент облачная и зябкая. Температура воздуха составляет около +2 градусов Цельсия. Ожидается небольшой дождь со снегом. Ветер слабый.', additional_kwargs={'functions_state_id': '6cddaf42-5aa6-419d-a604-d6aa308bd4ee'}, response_metadata={'token_usage': {'prompt_tokens': 1382, 'completion_tokens': 49, 'total_tokens': 1431}, 'model_name': 'GigaChat:1.0.26.20', 'finish_reason': 'stop'}, id='run-cf49087b-5d6d-487c-ab37-89a50d568332-0')]}"
      ]
     },
     "execution_count": 8,
     "metadata": {},
     "output_type": "execute_result"
    }
   ],
   "source": [
    "result"
   ]
  },
  {
   "cell_type": "code",
   "execution_count": 9,
   "id": "6cb3ef4c-58b3-401b-b104-0d51e553d982",
   "metadata": {
    "height": 31
   },
   "outputs": [
    {
     "data": {
      "text/plain": [
       "'Погода в Санкт-Петербурге на данный момент облачная и зябкая. Температура воздуха составляет около +2 градусов Цельсия. Ожидается небольшой дождь со снегом. Ветер слабый.'"
      ]
     },
     "execution_count": 9,
     "metadata": {},
     "output_type": "execute_result"
    }
   ],
   "source": [
    "result['messages'][-1].content"
   ]
  },
  {
   "cell_type": "code",
   "execution_count": 13,
   "id": "dc3293b7-a50c-43c8-a022-8975e1e444b8",
   "metadata": {
    "height": 64
   },
   "outputs": [
    {
     "name": "stdout",
     "output_type": "stream",
     "text": [
      "Calling: {'name': 'tavily_search_results_json', 'args': {'query': 'current weather in Moscow and St Petersburg'}, 'id': '026ec308-8d10-4dfa-9f06-c36eca02356c', 'type': 'tool_call'}\n",
      "Back to the model!\n"
     ]
    }
   ],
   "source": [
    "messages = [HumanMessage(content=\"Какая сейчас погода в Москве и Санкт-Петербурге?\")]\n",
    "result = abot.graph.invoke({\"messages\": messages})"
   ]
  },
  {
   "cell_type": "code",
   "execution_count": 14,
   "id": "e460b934",
   "metadata": {},
   "outputs": [
    {
     "data": {
      "text/plain": [
       "{'messages': [HumanMessage(content='Какая сейчас погода в Москве и Санкт-Петербурге?', additional_kwargs={}, response_metadata={}),\n",
       "  AIMessage(content='', additional_kwargs={'function_call': {'name': 'tavily_search_results_json', 'arguments': {'query': 'current weather in Moscow and St Petersburg'}}, 'functions_state_id': 'a2c8a7f2-ddd2-4ef1-9f6c-3384befe531a'}, response_metadata={'token_usage': {'prompt_tokens': 199, 'completion_tokens': 38, 'total_tokens': 237}, 'model_name': 'GigaChat:1.0.26.20', 'finish_reason': 'function_call'}, id='run-724e6e31-0cbb-4fa6-bd9b-c55d4fdae671-0', tool_calls=[{'name': 'tavily_search_results_json', 'args': {'query': 'current weather in Moscow and St Petersburg'}, 'id': '026ec308-8d10-4dfa-9f06-c36eca02356c', 'type': 'tool_call'}]),\n",
       "  ToolMessage(content='[{\\'url\\': \\'https://www.weatherapi.com/\\', \\'content\\': \"{\\'location\\': {\\'name\\': \\'Moscow\\', \\'region\\': \\'Moscow City\\', \\'country\\': \\'Russia\\', \\'lat\\': 55.7522, \\'lon\\': 37.6156, \\'tz_id\\': \\'Europe/Moscow\\', \\'localtime_epoch\\': 1736379880, \\'localtime\\': \\'2025-01-09 02:44\\'}, \\'current\\': {\\'last_updated_epoch\\': 1736379000, \\'last_updated\\': \\'2025-01-09 02:30\\', \\'temp_c\\': 0.0, \\'temp_f\\': 32.0, \\'is_day\\': 0, \\'condition\\': {\\'text\\': \\'Clear\\', \\'icon\\': \\'//cdn.weatherapi.com/weather/64x64/night/113.png\\', \\'code\\': 1000}, \\'wind_mph\\': 6.5, \\'wind_kph\\': 10.4, \\'wind_degree\\': 221, \\'wind_dir\\': \\'SW\\', \\'pressure_mb\\': 1006.0, \\'pressure_in\\': 29.71, \\'precip_mm\\': 0.0, \\'precip_in\\': 0.0, \\'humidity\\': 93, \\'cloud\\': 0, \\'feelslike_c\\': -3.4, \\'feelslike_f\\': 25.8, \\'windchill_c\\': -3.9, \\'windchill_f\\': 24.9, \\'heatindex_c\\': -0.4, \\'heatindex_f\\': 31.2, \\'dewpoint_c\\': -2.1, \\'dewpoint_f\\': 28.2, \\'vis_km\\': 10.0, \\'vis_miles\\': 6.0, \\'uv\\': 0.0, \\'gust_mph\\': 10.2, \\'gust_kph\\': 16.4}}\"}, {\\'url\\': \\'https://weather.metoffice.gov.uk/forecast/udtsfq9q7\\', \\'content\\': \\'St Petersburg 7 day weather forecast including weather warnings, temperature, rain, wind, visibility, humidity and UV ... Use my current location . ... Updated 01:27 (UTC) on Wed 8 Jan 2025. Loading map... Nearest forecasts. Kingisepp 72.4 miles; Vyborg 73.1 miles;\\'}, {\\'url\\': \\'https://www.weather25.com/europe/russia/saint-petersburg?page=month&month=August\\', \\'content\\': \"The temperatures in Saint Petersburg in August are comfortable with low of 13 ° C and and high up to 21 ° C.. You can expect about 3 to 8 days of rain in Saint Petersburg during the month of August. It\\'s a good idea to bring along your umbrella so that you don\\'t get caught in poor weather. Our weather forecast can give you a great sense of what weather to expect in Saint Petersburg in\"}, {\\'url\\': \\'https://russiaweather.org/saint-petersburg\\', \\'content\\': \"Saint Petersburg Weather Forecast Today 3 Day Weather 7 Day Weather 10 Day Weather 14 Day Weather 30 Day Weather Saint Petersburg, Russia Weather Saint Petersburg, Russia Weather Temperature and possibility of rain in Saint Petersburg in the coming days Rainfall in Saint Petersburg in the coming days Saint Petersburg Weather Summary Saint Petersburg\\'s weather °C 7 Days 10 Days 14 Days 30 Days 2°C 1°C 1°C 3°C 6°C Hottest day (09 November 2024) 7.84°C Coldest day (16 November 2024) -2.91°C Temperature and possibility of rain in Saint Petersburg in the coming days Rainfall in Saint Petersburg in the coming days Saint Petersburg\\'s weather For today\\'s cold weather in Saint Petersburg, with temperatures ranging from -1ºC to 2ºC (30.2ºF to 35.6ºF), you should wear: Day 2°C 1°C 0°C 1°C\"}]', name='tavily_search_results_json', tool_call_id='026ec308-8d10-4dfa-9f06-c36eca02356c'),\n",
       "  AIMessage(content='Погода в Москве на данный момент ясная, температура около 0 градусов Цельсия. В Санкт-Петербурге также ясно, температура чуть ниже, около -1 градуса Цельсия.', additional_kwargs={'functions_state_id': '2d6a1905-1e7c-4006-ba4d-949a606c8b01'}, response_metadata={'token_usage': {'prompt_tokens': 1299, 'completion_tokens': 42, 'total_tokens': 1341}, 'model_name': 'GigaChat:1.0.26.20', 'finish_reason': 'stop'}, id='run-7aac138e-44b7-434f-aa37-496650026d74-0')]}"
      ]
     },
     "execution_count": 14,
     "metadata": {},
     "output_type": "execute_result"
    }
   ],
   "source": [
    "result"
   ]
  },
  {
   "cell_type": "code",
   "execution_count": 15,
   "id": "0722c3d4-4cbf-43bf-81b0-50f634c4ce61",
   "metadata": {
    "height": 31
   },
   "outputs": [
    {
     "data": {
      "text/plain": [
       "'Погода в Москве на данный момент ясная, температура около 0 градусов Цельсия. В Санкт-Петербурге также ясно, температура чуть ниже, около -1 градуса Цельсия.'"
      ]
     },
     "execution_count": 15,
     "metadata": {},
     "output_type": "execute_result"
    }
   ],
   "source": [
    "result['messages'][-1].content"
   ]
  },
  {
   "cell_type": "code",
   "execution_count": null,
   "id": "13255302",
   "metadata": {},
   "outputs": [],
   "source": [
    "query = \"Какая команда стала чемпионом футбольной российской премьер-лиги в 2023?\\\n",
    "         Из какого она города? \\\n",
    "         Какие знаменитые игроки в ней играли?\\\n",
    "         Ответь на каждый вопрос.\" \n",
    "messages = [HumanMessage(content=query)]\n",
    "\n",
    "model = GigaChat(credentials=api_key, \n",
    "                 verify_ssl_certs=False, \n",
    "                 temperature = 0,\n",
    "                 model='GigaChat')\n",
    "\n",
    "abot = Agent(model, [tool], system=prompt)\n",
    "result = abot.graph.invoke({\"messages\": messages})"
   ]
  },
  {
   "cell_type": "code",
   "execution_count": 26,
   "id": "81bbdf48",
   "metadata": {},
   "outputs": [
    {
     "data": {
      "text/plain": [
       "{'messages': [HumanMessage(content='Какая команда стала чемпионом футбольной российской премьер-лиги в 2023?         Из какого она города?          Какие знаменитые игроки в ней играли?         Ответь на каждый вопрос.', additional_kwargs={}, response_metadata={}),\n",
       "  AIMessage(content='Команда, ставшая чемпионом футбольной Российской Премьер-Лиги в сезоне 2023 года, называется \"Зенит\". Она представляет город Санкт-Петербург. В составе команды в этом сезоне играли такие известные футболисты как Малком, Клаудиньо и Вильмар Барриос.', additional_kwargs={'functions_state_id': 'b51283ac-36a5-4861-ac0a-933355653cdf'}, response_metadata={'token_usage': {'prompt_tokens': 230, 'completion_tokens': 70, 'total_tokens': 300}, 'model_name': 'GigaChat:1.0.26.20', 'finish_reason': 'stop'}, id='run-34ba8580-f553-4963-a1a5-f626e5b29234-0')]}"
      ]
     },
     "execution_count": 26,
     "metadata": {},
     "output_type": "execute_result"
    }
   ],
   "source": [
    "result"
   ]
  },
  {
   "cell_type": "code",
   "execution_count": 27,
   "id": "e6cc689e",
   "metadata": {},
   "outputs": [
    {
     "name": "stdout",
     "output_type": "stream",
     "text": [
      "Команда, ставшая чемпионом футбольной Российской Премьер-Лиги в сезоне 2023 года, называется \"Зенит\". Она представляет город Санкт-Петербург. В составе команды в этом сезоне играли такие известные футболисты как Малком, Клаудиньо и Вильмар Барриос.\n"
     ]
    }
   ],
   "source": [
    "print(result['messages'][-1].content)"
   ]
  },
  {
   "cell_type": "code",
   "execution_count": 22,
   "id": "6b2f82fe-3ec4-4917-be51-9fb10d1317fa",
   "metadata": {
    "height": 200
   },
   "outputs": [
    {
     "name": "stdout",
     "output_type": "stream",
     "text": [
      "Calling: {'name': 'tavily_search_results_json', 'args': {'query': 'Чемпион футбольной российской премьер-лиги 2023'}, 'id': '44677c4e-7be8-492d-98d8-b31760a7c4ef', 'type': 'tool_call'}\n",
      "Back to the model!\n"
     ]
    }
   ],
   "source": [
    "query = \"Какая команда стала чемпионом футбольной российской премьер-лиги в 2023?\\\n",
    "         Из какого она города? \\\n",
    "         Какие знаменитые игроки в ней играли?\\\n",
    "         Ответь на каждый вопрос.\" \n",
    "messages = [HumanMessage(content=query)]\n",
    "\n",
    "model = GigaChat(credentials=api_key, \n",
    "                 verify_ssl_certs=False, \n",
    "                 temperature = 0,\n",
    "                 model='GigaChat-Max')\n",
    "\n",
    "abot = Agent(model, [tool], system=prompt)\n",
    "result = abot.graph.invoke({\"messages\": messages})"
   ]
  },
  {
   "cell_type": "code",
   "execution_count": 23,
   "id": "62e2ef07",
   "metadata": {},
   "outputs": [
    {
     "data": {
      "text/plain": [
       "{'messages': [HumanMessage(content='Какая команда стала чемпионом футбольной российской премьер-лиги в 2023?         Из какого она города?          Какие знаменитые игроки в ней играли?         Ответь на каждый вопрос.', additional_kwargs={}, response_metadata={}),\n",
       "  AIMessage(content='', additional_kwargs={'function_call': {'name': 'tavily_search_results_json', 'arguments': {'query': 'Чемпион футбольной российской премьер-лиги 2023'}}, 'functions_state_id': 'c813b674-77e9-4177-8058-8c2e8a81d35c'}, response_metadata={'token_usage': {'prompt_tokens': 200, 'completion_tokens': 37, 'total_tokens': 237}, 'model_name': 'GigaChat-Max:1.0.26.20', 'finish_reason': 'function_call'}, id='run-4658dedf-801f-4ebe-9bf4-5faa003bbfa9-0', tool_calls=[{'name': 'tavily_search_results_json', 'args': {'query': 'Чемпион футбольной российской премьер-лиги 2023'}, 'id': '44677c4e-7be8-492d-98d8-b31760a7c4ef', 'type': 'tool_call'}]),\n",
       "  ToolMessage(content=\"[{'url': 'https://www.championat.com/football/news-5564422-dmitrij-alenichev-nazval-chempiona-rpl-sezona-2023-2024.html', 'content': 'Напомним, за тур до завершения сезона-2023/2024 Российской Премьер-Лиги первое место с 56 очками в 29 матчах занимает московское «Динамо», на второй строчке таблицы находится набравший 54 очка'}, {'url': 'https://www.wikiwand.com/ru/articles/Чемпионат_России_по_футболу_2023/2024', 'content': 'Проводился при финансовой поддержке титульного спонсора платёжной системы «Мир» [4] [2] и носит название Мир РПЛ (Мир Российская премьер-лига). Чемпионат проводился с 21 июля 2023 года [1] по 25 мая 2024 года [2].'}, {'url': 'https://www.transfermarkt.world/premier-liga/startseite/wettbewerb/RU1/saison_id/2023', 'content': 'Премьер-лига Россия Рейтинг лиги: Первая лига Действующий чемпион: Зенит Санкт-Петербург Чемпион: Спартак Москва 10 раз(а) Коэффициент УЕФА: 30.'}, {'url': 'https://ru.wikipedia.org/wiki/Чемпионат_России_по_футболу', 'content': 'Чемпиона́т Росси́и по футбо́лу (официальное название по регламенту с сезона-2022/2023 «Мир Российская премьер-лига (Чемпионат России по футболу среди команд клубов премьер-лиги)») — высший дивизион системы футбольных'}]\", name='tavily_search_results_json', tool_call_id='44677c4e-7be8-492d-98d8-b31760a7c4ef'),\n",
       "  AIMessage(content='На момент окончания чемпионата Российской Премьер-лиги в сезоне 2023/24 чемпионом стало московское \"Динамо\". Это футбольный клуб из Москвы, столицы России. В составе этой команды играют такие известные футболисты как Федор Смолов, Себастьян Шиманьски, Вячеслав Грулев и другие.', additional_kwargs={'functions_state_id': '2449e080-9e19-4e09-bf76-5fa745fc67ed'}, response_metadata={'token_usage': {'prompt_tokens': 617, 'completion_tokens': 64, 'total_tokens': 681}, 'model_name': 'GigaChat-Max:1.0.26.20', 'finish_reason': 'stop'}, id='run-a17820da-ac2f-4197-ab5e-750b442add6f-0')]}"
      ]
     },
     "execution_count": 23,
     "metadata": {},
     "output_type": "execute_result"
    }
   ],
   "source": [
    "result"
   ]
  },
  {
   "cell_type": "code",
   "execution_count": 17,
   "id": "ee0fe1c7-77e2-499c-a2f9-1f739bb6ddf0",
   "metadata": {
    "height": 31
   },
   "outputs": [
    {
     "name": "stdout",
     "output_type": "stream",
     "text": [
      "В 2024 году чемпионами Российской Премьер-Лиги стали футболисты московского \"Локомотива\". Этот клуб является одним из самых титулованных в России, он был основан в 1923 году. Среди известных игроков, выступавших за \"Локомотив\", можно выделить Игоря Чугайнова, Дмитрия Лоськова и Дмитрия Сычева.\n"
     ]
    }
   ],
   "source": [
    "print(result['messages'][-1].content)"
   ]
  },
  {
   "cell_type": "markdown",
   "id": "84121a9c",
   "metadata": {},
   "source": [
    "Вот честно, ситуация неприятная.\n",
    "Версия Max воспользовалась инструментом Tavily, в отличии от Lite версии, которая ориентировалась на свои знания. Но даже так, Lite версия дала правильный ответ, а вот Max версия - нет. Вопрос, что виновато? Модель или Tavily, давший не самые релевантные статьи?"
   ]
  }
 ],
 "metadata": {
  "kernelspec": {
   "display_name": "Python 3",
   "language": "python",
   "name": "python3"
  },
  "language_info": {
   "codemirror_mode": {
    "name": "ipython",
    "version": 3
   },
   "file_extension": ".py",
   "mimetype": "text/x-python",
   "name": "python",
   "nbconvert_exporter": "python",
   "pygments_lexer": "ipython3",
   "version": "3.9.13"
  }
 },
 "nbformat": 4,
 "nbformat_minor": 5
}
