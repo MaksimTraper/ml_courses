{
 "cells": [
  {
   "cell_type": "markdown",
   "id": "b5789bc3-b1ae-42c7-94a8-2ef4f89946fc",
   "metadata": {},
   "source": [
    "# Lesson 4: Persistence and Streaming"
   ]
  },
  {
   "cell_type": "code",
   "execution_count": 1,
   "id": "f5762271-8736-4e94-9444-8c92bd0e8074",
   "metadata": {
    "height": 64
   },
   "outputs": [],
   "source": [
    "import os\n",
    "from dotenv import load_dotenv, find_dotenv\n",
    "\n",
    "from gigachat.models import Chat, Messages, MessagesRole, chat_completion\n",
    "from langchain_gigachat.chat_models import GigaChat\n",
    "\n",
    "_ = load_dotenv(find_dotenv())\n",
    "\n",
    "api_key  = os.getenv('GIGACHAT_API_KEY')\n",
    "\n",
    "model = GigaChat(credentials=api_key, verify_ssl_certs=False, temperature = 0)"
   ]
  },
  {
   "cell_type": "code",
   "execution_count": 3,
   "id": "d0168aee-bce9-4d60-b827-f86a88187e31",
   "metadata": {
    "height": 115
   },
   "outputs": [],
   "source": [
    "from langgraph.graph import StateGraph, END\n",
    "from typing import TypedDict, Annotated\n",
    "import operator\n",
    "from langchain_core.messages import AnyMessage, SystemMessage, HumanMessage, ToolMessage\n",
    "from langchain_community.tools.tavily_search import TavilySearchResults"
   ]
  },
  {
   "cell_type": "code",
   "execution_count": 4,
   "id": "da06a64f-a2d5-4a66-8090-9ada0930c684",
   "metadata": {
    "height": 30
   },
   "outputs": [],
   "source": [
    "tool = TavilySearchResults(max_results=2)"
   ]
  },
  {
   "cell_type": "code",
   "execution_count": 5,
   "id": "2589c5b6-6cc2-4594-9a17-dccdcf676054",
   "metadata": {
    "height": 47
   },
   "outputs": [],
   "source": [
    "class AgentState(TypedDict):\n",
    "    messages: Annotated[list[AnyMessage], operator.add]"
   ]
  },
  {
   "cell_type": "code",
   "execution_count": 7,
   "id": "ddc6a5f6",
   "metadata": {},
   "outputs": [
    {
     "name": "stdout",
     "output_type": "stream",
     "text": [
      "Collecting gigagraph-checkpoint-sqlite\n",
      "  Downloading gigagraph_checkpoint_sqlite-1.0.3-py3-none-any.whl.metadata (3.0 kB)\n",
      "Collecting aiosqlite<0.21.0,>=0.20.0 (from gigagraph-checkpoint-sqlite)\n",
      "  Downloading aiosqlite-0.20.0-py3-none-any.whl.metadata (4.3 kB)\n",
      "Collecting gigagraph-checkpoint<2.0.0,>=1.0.8 (from gigagraph-checkpoint-sqlite)\n",
      "  Downloading gigagraph_checkpoint-1.0.9-py3-none-any.whl.metadata (4.5 kB)\n",
      "Requirement already satisfied: typing_extensions>=4.0 in c:\\users\\maksim\\appdata\\local\\programs\\python\\python39\\lib\\site-packages (from aiosqlite<0.21.0,>=0.20.0->gigagraph-checkpoint-sqlite) (4.12.2)\n",
      "Collecting gigachain-core<0.4,>=0.2.38post2 (from gigagraph-checkpoint<2.0.0,>=1.0.8->gigagraph-checkpoint-sqlite)\n",
      "  Downloading gigachain_core-0.2.38.post2-py3-none-any.whl.metadata (6.3 kB)\n",
      "Requirement already satisfied: PyYAML>=5.3 in c:\\users\\maksim\\appdata\\local\\programs\\python\\python39\\lib\\site-packages (from gigachain-core<0.4,>=0.2.38post2->gigagraph-checkpoint<2.0.0,>=1.0.8->gigagraph-checkpoint-sqlite) (6.0.2)\n",
      "Requirement already satisfied: jsonpatch<2.0,>=1.33 in c:\\users\\maksim\\appdata\\local\\programs\\python\\python39\\lib\\site-packages (from gigachain-core<0.4,>=0.2.38post2->gigagraph-checkpoint<2.0.0,>=1.0.8->gigagraph-checkpoint-sqlite) (1.33)\n",
      "Collecting langfuse<3.0.0,>=2.41.0 (from gigachain-core<0.4,>=0.2.38post2->gigagraph-checkpoint<2.0.0,>=1.0.8->gigagraph-checkpoint-sqlite)\n",
      "  Downloading langfuse-2.57.5-py3-none-any.whl.metadata (3.2 kB)\n",
      "Collecting langsmith<0.2.0,>=0.1.112 (from gigachain-core<0.4,>=0.2.38post2->gigagraph-checkpoint<2.0.0,>=1.0.8->gigagraph-checkpoint-sqlite)\n",
      "  Downloading langsmith-0.1.147-py3-none-any.whl.metadata (14 kB)\n",
      "Requirement already satisfied: packaging<25,>=23.2 in c:\\users\\maksim\\appdata\\local\\programs\\python\\python39\\lib\\site-packages (from gigachain-core<0.4,>=0.2.38post2->gigagraph-checkpoint<2.0.0,>=1.0.8->gigagraph-checkpoint-sqlite) (24.1)\n",
      "Requirement already satisfied: pydantic<3,>=1 in c:\\users\\maksim\\appdata\\local\\programs\\python\\python39\\lib\\site-packages (from gigachain-core<0.4,>=0.2.38post2->gigagraph-checkpoint<2.0.0,>=1.0.8->gigagraph-checkpoint-sqlite) (2.10.4)\n",
      "Collecting tenacity!=8.4.0,<9.0.0,>=8.1.0 (from gigachain-core<0.4,>=0.2.38post2->gigagraph-checkpoint<2.0.0,>=1.0.8->gigagraph-checkpoint-sqlite)\n",
      "  Using cached tenacity-8.5.0-py3-none-any.whl.metadata (1.2 kB)\n",
      "Requirement already satisfied: jsonpointer>=1.9 in c:\\users\\maksim\\appdata\\local\\programs\\python\\python39\\lib\\site-packages (from jsonpatch<2.0,>=1.33->gigachain-core<0.4,>=0.2.38post2->gigagraph-checkpoint<2.0.0,>=1.0.8->gigagraph-checkpoint-sqlite) (3.0.0)\n",
      "Requirement already satisfied: anyio<5.0.0,>=4.4.0 in c:\\users\\maksim\\appdata\\local\\programs\\python\\python39\\lib\\site-packages (from langfuse<3.0.0,>=2.41.0->gigachain-core<0.4,>=0.2.38post2->gigagraph-checkpoint<2.0.0,>=1.0.8->gigagraph-checkpoint-sqlite) (4.7.0)\n",
      "Collecting backoff>=1.10.0 (from langfuse<3.0.0,>=2.41.0->gigachain-core<0.4,>=0.2.38post2->gigagraph-checkpoint<2.0.0,>=1.0.8->gigagraph-checkpoint-sqlite)\n",
      "  Using cached backoff-2.2.1-py3-none-any.whl.metadata (14 kB)\n",
      "Requirement already satisfied: httpx<1.0,>=0.15.4 in c:\\users\\maksim\\appdata\\local\\programs\\python\\python39\\lib\\site-packages (from langfuse<3.0.0,>=2.41.0->gigachain-core<0.4,>=0.2.38post2->gigagraph-checkpoint<2.0.0,>=1.0.8->gigagraph-checkpoint-sqlite) (0.27.2)\n",
      "Requirement already satisfied: idna<4.0,>=3.7 in c:\\users\\maksim\\appdata\\local\\programs\\python\\python39\\lib\\site-packages (from langfuse<3.0.0,>=2.41.0->gigachain-core<0.4,>=0.2.38post2->gigagraph-checkpoint<2.0.0,>=1.0.8->gigagraph-checkpoint-sqlite) (3.10)\n",
      "Requirement already satisfied: requests<3,>=2 in c:\\users\\maksim\\appdata\\local\\programs\\python\\python39\\lib\\site-packages (from langfuse<3.0.0,>=2.41.0->gigachain-core<0.4,>=0.2.38post2->gigagraph-checkpoint<2.0.0,>=1.0.8->gigagraph-checkpoint-sqlite) (2.32.3)\n",
      "Collecting wrapt<2.0,>=1.14 (from langfuse<3.0.0,>=2.41.0->gigachain-core<0.4,>=0.2.38post2->gigagraph-checkpoint<2.0.0,>=1.0.8->gigagraph-checkpoint-sqlite)\n",
      "  Downloading wrapt-1.17.0-cp39-cp39-win_amd64.whl.metadata (6.5 kB)\n",
      "Requirement already satisfied: orjson<4.0.0,>=3.9.14 in c:\\users\\maksim\\appdata\\local\\programs\\python\\python39\\lib\\site-packages (from langsmith<0.2.0,>=0.1.112->gigachain-core<0.4,>=0.2.38post2->gigagraph-checkpoint<2.0.0,>=1.0.8->gigagraph-checkpoint-sqlite) (3.10.13)\n",
      "Requirement already satisfied: requests-toolbelt<2.0.0,>=1.0.0 in c:\\users\\maksim\\appdata\\local\\programs\\python\\python39\\lib\\site-packages (from langsmith<0.2.0,>=0.1.112->gigachain-core<0.4,>=0.2.38post2->gigagraph-checkpoint<2.0.0,>=1.0.8->gigagraph-checkpoint-sqlite) (1.0.0)\n",
      "Requirement already satisfied: annotated-types>=0.6.0 in c:\\users\\maksim\\appdata\\local\\programs\\python\\python39\\lib\\site-packages (from pydantic<3,>=1->gigachain-core<0.4,>=0.2.38post2->gigagraph-checkpoint<2.0.0,>=1.0.8->gigagraph-checkpoint-sqlite) (0.7.0)\n",
      "Requirement already satisfied: pydantic-core==2.27.2 in c:\\users\\maksim\\appdata\\local\\programs\\python\\python39\\lib\\site-packages (from pydantic<3,>=1->gigachain-core<0.4,>=0.2.38post2->gigagraph-checkpoint<2.0.0,>=1.0.8->gigagraph-checkpoint-sqlite) (2.27.2)\n",
      "Requirement already satisfied: exceptiongroup>=1.0.2 in c:\\users\\maksim\\appdata\\roaming\\python\\python39\\site-packages (from anyio<5.0.0,>=4.4.0->langfuse<3.0.0,>=2.41.0->gigachain-core<0.4,>=0.2.38post2->gigagraph-checkpoint<2.0.0,>=1.0.8->gigagraph-checkpoint-sqlite) (1.2.2)\n",
      "Requirement already satisfied: sniffio>=1.1 in c:\\users\\maksim\\appdata\\local\\programs\\python\\python39\\lib\\site-packages (from anyio<5.0.0,>=4.4.0->langfuse<3.0.0,>=2.41.0->gigachain-core<0.4,>=0.2.38post2->gigagraph-checkpoint<2.0.0,>=1.0.8->gigagraph-checkpoint-sqlite) (1.3.1)\n",
      "Requirement already satisfied: certifi in c:\\users\\maksim\\appdata\\local\\programs\\python\\python39\\lib\\site-packages (from httpx<1.0,>=0.15.4->langfuse<3.0.0,>=2.41.0->gigachain-core<0.4,>=0.2.38post2->gigagraph-checkpoint<2.0.0,>=1.0.8->gigagraph-checkpoint-sqlite) (2024.8.30)\n",
      "Requirement already satisfied: httpcore==1.* in c:\\users\\maksim\\appdata\\local\\programs\\python\\python39\\lib\\site-packages (from httpx<1.0,>=0.15.4->langfuse<3.0.0,>=2.41.0->gigachain-core<0.4,>=0.2.38post2->gigagraph-checkpoint<2.0.0,>=1.0.8->gigagraph-checkpoint-sqlite) (1.0.7)\n",
      "Requirement already satisfied: h11<0.15,>=0.13 in c:\\users\\maksim\\appdata\\local\\programs\\python\\python39\\lib\\site-packages (from httpcore==1.*->httpx<1.0,>=0.15.4->langfuse<3.0.0,>=2.41.0->gigachain-core<0.4,>=0.2.38post2->gigagraph-checkpoint<2.0.0,>=1.0.8->gigagraph-checkpoint-sqlite) (0.14.0)\n",
      "Requirement already satisfied: charset-normalizer<4,>=2 in c:\\users\\maksim\\appdata\\local\\programs\\python\\python39\\lib\\site-packages (from requests<3,>=2->langfuse<3.0.0,>=2.41.0->gigachain-core<0.4,>=0.2.38post2->gigagraph-checkpoint<2.0.0,>=1.0.8->gigagraph-checkpoint-sqlite) (3.4.0)\n",
      "Requirement already satisfied: urllib3<3,>=1.21.1 in c:\\users\\maksim\\appdata\\local\\programs\\python\\python39\\lib\\site-packages (from requests<3,>=2->langfuse<3.0.0,>=2.41.0->gigachain-core<0.4,>=0.2.38post2->gigagraph-checkpoint<2.0.0,>=1.0.8->gigagraph-checkpoint-sqlite) (2.2.3)\n",
      "Downloading gigagraph_checkpoint_sqlite-1.0.3-py3-none-any.whl (12 kB)\n",
      "Downloading aiosqlite-0.20.0-py3-none-any.whl (15 kB)\n",
      "Downloading gigagraph_checkpoint-1.0.9-py3-none-any.whl (16 kB)\n",
      "Downloading gigachain_core-0.2.38.post2-py3-none-any.whl (403 kB)\n",
      "Downloading langfuse-2.57.5-py3-none-any.whl (255 kB)\n",
      "Downloading langsmith-0.1.147-py3-none-any.whl (311 kB)\n",
      "Using cached tenacity-8.5.0-py3-none-any.whl (28 kB)\n",
      "Using cached backoff-2.2.1-py3-none-any.whl (15 kB)\n",
      "Downloading wrapt-1.17.0-cp39-cp39-win_amd64.whl (38 kB)\n",
      "Installing collected packages: wrapt, tenacity, backoff, aiosqlite, langsmith, langfuse, gigachain-core, gigagraph-checkpoint, gigagraph-checkpoint-sqlite\n",
      "  Attempting uninstall: tenacity\n",
      "    Found existing installation: tenacity 9.0.0\n",
      "    Uninstalling tenacity-9.0.0:\n",
      "      Successfully uninstalled tenacity-9.0.0\n",
      "  Attempting uninstall: langsmith\n",
      "    Found existing installation: langsmith 0.2.10\n",
      "    Uninstalling langsmith-0.2.10:\n",
      "      Successfully uninstalled langsmith-0.2.10\n",
      "Successfully installed aiosqlite-0.20.0 backoff-2.2.1 gigachain-core-0.2.38.post2 gigagraph-checkpoint-1.0.9 gigagraph-checkpoint-sqlite-1.0.3 langfuse-2.57.5 langsmith-0.1.147 tenacity-8.5.0 wrapt-1.17.0\n"
     ]
    }
   ],
   "source": [
    "!pip install gigagraph-checkpoint-sqlite"
   ]
  },
  {
   "cell_type": "code",
   "execution_count": 24,
   "id": "9c033522-d2fc-41ac-8e3c-5e35872bf88d",
   "metadata": {
    "height": 64
   },
   "outputs": [],
   "source": [
    "from langgraph.checkpoint.sqlite import SqliteSaver\n",
    "from langgraph.checkpoint.memory import MemorySaver\n",
    "\n",
    "memory = SqliteSaver.from_conn_string(\":memory:\")\n",
    "memory = MemorySaver()"
   ]
  },
  {
   "cell_type": "code",
   "execution_count": 25,
   "id": "a2ba84ec-c172-4de7-ac55-e3158a531b23",
   "metadata": {
    "height": 574
   },
   "outputs": [],
   "source": [
    "class Agent:\n",
    "    def __init__(self, model, tools, checkpointer, system=\"\"):\n",
    "        self.system = system\n",
    "        graph = StateGraph(AgentState)\n",
    "        graph.add_node(\"llm\", self.call_openai)\n",
    "        graph.add_node(\"action\", self.take_action)\n",
    "        graph.add_conditional_edges(\"llm\", self.exists_action, {True: \"action\", False: END})\n",
    "        graph.add_edge(\"action\", \"llm\")\n",
    "        graph.set_entry_point(\"llm\")\n",
    "        self.graph = graph.compile(checkpointer=checkpointer)\n",
    "        self.tools = {t.name: t for t in tools}\n",
    "        self.model = model.bind_tools(tools)\n",
    "\n",
    "    def call_openai(self, state: AgentState):\n",
    "        messages = state['messages']\n",
    "        if self.system:\n",
    "            messages = [SystemMessage(content=self.system)] + messages\n",
    "        message = self.model.invoke(messages)\n",
    "        return {'messages': [message]}\n",
    "\n",
    "    def exists_action(self, state: AgentState):\n",
    "        result = state['messages'][-1]\n",
    "        return len(result.tool_calls) > 0\n",
    "\n",
    "    def take_action(self, state: AgentState):\n",
    "        tool_calls = state['messages'][-1].tool_calls\n",
    "        results = []\n",
    "        for t in tool_calls:\n",
    "            print(f\"Calling: {t}\")\n",
    "            result = self.tools[t['name']].invoke(t['args'])\n",
    "            results.append(ToolMessage(tool_call_id=t['id'], name=t['name'], content=str(result)))\n",
    "        print(\"Back to the model!\")\n",
    "        return {'messages': results}"
   ]
  },
  {
   "cell_type": "code",
   "execution_count": 26,
   "id": "876d5092-b8ef-4e38-b4d7-0e80c609bf7a",
   "metadata": {
    "height": 132
   },
   "outputs": [],
   "source": [
    "prompt = \"\"\"\n",
    "Вы - толковый научный сотрудник. Используйте поисковую систему для поиска информации. \\\n",
    "Вам разрешено совершать несколько звонков (как одновременно, так и последовательно). \\\n",
    "Ищите информацию только тогда, когда вы уверены в том, что вам нужно. \\\n",
    "Если вам нужно найти какую-то информацию, прежде чем задать уточняющий вопрос, вы можете это сделать!\n",
    "\"\"\"\n",
    "abot = Agent(model, [tool], system=prompt, checkpointer=memory)"
   ]
  },
  {
   "cell_type": "code",
   "execution_count": 27,
   "id": "10084a02-2928-4945-9f7c-ad3f5b33caf7",
   "metadata": {
    "height": 30
   },
   "outputs": [],
   "source": [
    "messages = [HumanMessage(content=\"Какая погода сегодня в Санкт-Петербурге?\")]"
   ]
  },
  {
   "cell_type": "code",
   "execution_count": 28,
   "id": "714d1205-f8fc-4912-b148-2a45da99219c",
   "metadata": {
    "height": 30
   },
   "outputs": [],
   "source": [
    "thread = {\"configurable\": {\"thread_id\": \"1\"}}"
   ]
  },
  {
   "cell_type": "code",
   "execution_count": 29,
   "id": "83588e70-254f-4f83-a510-c8ae81e729b0",
   "metadata": {
    "height": 64
   },
   "outputs": [
    {
     "name": "stdout",
     "output_type": "stream",
     "text": [
      "[AIMessage(content='', additional_kwargs={'function_call': {'name': 'tavily_search_results_json', 'arguments': {'query': 'погода сегодня в Санкт-Петербурге'}}, 'functions_state_id': 'c4b54682-4e6d-4e62-b7bd-61b782fdd37e'}, response_metadata={'token_usage': {'prompt_tokens': 197, 'completion_tokens': 38, 'total_tokens': 235}, 'model_name': 'GigaChat:1.0.26.20', 'finish_reason': 'function_call'}, id='run-b23b85db-4933-4431-8561-038b26fe40c4-0', tool_calls=[{'name': 'tavily_search_results_json', 'args': {'query': 'погода сегодня в Санкт-Петербурге'}, 'id': '9a5832b3-bad3-4c01-a50d-37d2f0ddf747', 'type': 'tool_call'}])]\n",
      "Calling: {'name': 'tavily_search_results_json', 'args': {'query': 'погода сегодня в Санкт-Петербурге'}, 'id': '9a5832b3-bad3-4c01-a50d-37d2f0ddf747', 'type': 'tool_call'}\n",
      "Back to the model!\n",
      "[ToolMessage(content=\"[{'url': 'https://www.meteoservice.ru/weather/today/sankt-peterburg', 'content': 'Санкт-Петербурге сегодня по часам\\\\nКарточки погоды на сегодня\\\\nХарактер погоды\\\\nТемпература\\\\nВетер\\\\nОсадки\\\\nХарактер погоды\\\\nТемпература\\\\nВетер\\\\nОсадки\\\\nПогода в Санкт-Петербурге по часам\\\\nСегодня в Санкт-Петербурге ожидается облачная зябкая погода. Новости погоды\\\\nДалее погода в Санкт-Петербурге\\\\nУзнайте больше о погоде в Санкт-Петербурге\\\\nИнтересует, какая погода сегодня на день или ночь, 15 марта, в Санкт-Петербурге? Пятница, 15 марта\\\\nУтром\\\\nДнем\\\\nВечером\\\\nЧасто задаваемые вопросы о погоде сегодня в Санкт-Петербурге\\\\nПогода в Санкт-Петербурге сегодня днем зябкая облачная.\\\\n На первой карточке уже проанализирован подробный прогноз погоды в Санкт-Петербурге на сегодня на день и ночь, и выделено, какая погода сегодня преобладает, в котором часу ожидается лучшая и худшая погода в Для более детального анализа раздел «Погода сегодня в Санкт-Петербурге» предлагает таблицы с подробным прогнозом по часам, в которых наглядно показано, в какое время 15 марта какая ожидается погода, температура воздуха, температура по ощущениям, какова вероятность осадков, какое количество осадков, а также ветер, давление и относительная влажность воздуха.\\\\n'}, {'url': 'https://yandex.ru/pogoda/saint-petersburg', 'content': 'Прогноз погоды в Санкт-Петербурге на 10 дней — Яндекс.Погода В 10 часов дождь со снегом, +2° В 11 часов дождь со снегом, +2° В 12 часов дождь со снегом, +2° В 18 часов дождь со снегом, +2° В 10 часов дождь со снегом, +2° В 11 часов дождь со снегом, +1° В 12 часов дождь со снегом, +1° В 13 часов дождь со снегом, +1° В 14 часов дождь со снегом, +1° В 15 часов дождь со снегом, +1° В 16 часов дождь со снегом, +1° В 17 часов дождь со снегом, +1° В 18 часов дождь со снегом, +1° В 19 часов дождь со снегом, +2° В 20 часов дождь со снегом, +2° В 21 час дождь со снегом, +2°'}]\", name='tavily_search_results_json', tool_call_id='9a5832b3-bad3-4c01-a50d-37d2f0ddf747')]\n",
      "[AIMessage(content='Погода в Санкт-Петербурге сегодня облачная и зябкая. Температура воздуха составляет около +2 градусов Цельсия. Ожидается дождь со снегом.', additional_kwargs={'functions_state_id': '0d6f19cf-e273-441e-a23d-eb2539f64442'}, response_metadata={'token_usage': {'prompt_tokens': 908, 'completion_tokens': 41, 'total_tokens': 949}, 'model_name': 'GigaChat:1.0.26.20', 'finish_reason': 'stop'}, id='run-a51d71e0-e3e8-4820-9559-c9b6f32dc369-0')]\n"
     ]
    }
   ],
   "source": [
    "for event in abot.graph.stream({\"messages\": messages}, thread):\n",
    "    for v in event.values():\n",
    "        print(v['messages'])"
   ]
  },
  {
   "cell_type": "code",
   "execution_count": 30,
   "id": "6cb3ef4c-58b3-401b-b104-0d51e553d982",
   "metadata": {
    "height": 98
   },
   "outputs": [
    {
     "name": "stdout",
     "output_type": "stream",
     "text": [
      "{'messages': [AIMessage(content='', additional_kwargs={'function_call': {'name': 'tavily_search_results_json', 'arguments': {'query': 'погода сегодня в Москве'}}, 'functions_state_id': '5682dbb9-918c-46cb-bf2f-b432daf17939'}, response_metadata={'token_usage': {'prompt_tokens': 976, 'completion_tokens': 36, 'total_tokens': 1012}, 'model_name': 'GigaChat:1.0.26.20', 'finish_reason': 'function_call'}, id='run-f10028c0-12bf-4ed7-ae4b-a8d79ca41172-0', tool_calls=[{'name': 'tavily_search_results_json', 'args': {'query': 'погода сегодня в Москве'}, 'id': '76ebf878-ca39-47a7-a7c9-b20cdcfbba2e', 'type': 'tool_call'}])]}\n",
      "Calling: {'name': 'tavily_search_results_json', 'args': {'query': 'погода сегодня в Москве'}, 'id': '76ebf878-ca39-47a7-a7c9-b20cdcfbba2e', 'type': 'tool_call'}\n",
      "Back to the model!\n",
      "{'messages': [ToolMessage(content='[{\\'url\\': \\'https://world-weather.ru/pogoda/russia/moscow/\\', \\'content\\': \\'Погода в Москве сегодня - точный прогноз погоды в Москве на завтра, сейчас (Московская область) +4° +4° 0° Сегодня 19 ноября, погода +3°C. Завтра ночью температура воздуха понизится до +1°C, ветер изменится на южный 0.9 м/с. ноября +3° +4° ноября +5° +1° ноября +8° +7° ноября +1° +2° ноября +3° +1° ноября 0° +1° ноября 0° -3° +4° +4° +3° +3° +3° +3° +2° +2° +1° +1° +1° 0° Интерактивный график изменения температуры в Москве на период с 19 по 25 ноября. Самый холодный день ожидается в понедельник 25 ноября Самый теплый день будет в четверг 21 ноября Наибольшая вероятность выпадения осадков в субботу 23 ноября Наиболее ветрено в Москве будет в субботу 23 ноября Погода в Москве на карте\\'}, {\\'url\\': \\'https://www.meteoservice.ru/weather/today/moskva\\', \\'content\\': \"Weather today\\\\nnotifications_active\\\\nMoscow weather today\\\\nWeather summary for today\\\\nWeather conditions\\\\nTemperature\\\\nWind\\\\nPrecipitation\\\\nWeather conditions\\\\nTemperature\\\\nWind\\\\nPrecipitation\\\\nHourly weather in Moscow\\\\nThe outlook for Moscow today is for a slightly cloudy and cold day. Expected wind conditions are calm with a steady light breeze of 7 km/h and gusts of up to 29 km/h.\\\\nMoscow weather: what\\'s next?\\\\nLearn more about the weather in Moscow\\\\nThe accurate Moscow weather forecast for today introduces the most precise weather for the whole day by the hour. Wednesday, February 28\\\\nMorning\\\\nAfternoon\\\\nEvening\\\\nFrequently Asked Questions About today\\'s Weather in Moscow\\\\nForecasts suggest that Moscow weather will be slightly cloudy and cold today.\\\\n The first card shows what kind of weather prevails today, at which hours to expect the best and worst weather. The particular bluish background highlights the rows with a high chance of rain or snow in the Moscow weather forecast.\"}]', name='tavily_search_results_json', tool_call_id='76ebf878-ca39-47a7-a7c9-b20cdcfbba2e')]}\n",
      "{'messages': [AIMessage(content='В Москве сегодня также облачно и холодно. Температура воздуха около +3 градусов Цельсия. Ожидается небольшой ветер.', additional_kwargs={'functions_state_id': '65b01aea-98ac-420a-87f3-af167923f01b'}, response_metadata={'token_usage': {'prompt_tokens': 1616, 'completion_tokens': 33, 'total_tokens': 1649}, 'model_name': 'GigaChat:1.0.26.20', 'finish_reason': 'stop'}, id='run-54b70128-cdba-4de5-a38c-63771070d66d-0')]}\n"
     ]
    }
   ],
   "source": [
    "messages = [HumanMessage(content=\"Что насчёт Москвы?\")]\n",
    "thread = {\"configurable\": {\"thread_id\": \"1\"}}\n",
    "for event in abot.graph.stream({\"messages\": messages}, thread):\n",
    "    for v in event.values():\n",
    "        print(v)"
   ]
  },
  {
   "cell_type": "code",
   "execution_count": 31,
   "id": "dc3293b7-a50c-43c8-a022-8975e1e444b8",
   "metadata": {
    "height": 98
   },
   "outputs": [
    {
     "name": "stdout",
     "output_type": "stream",
     "text": [
      "{'messages': [AIMessage(content='', additional_kwargs={'function_call': {'name': 'tavily_search_results_json', 'arguments': {'query': 'погода сегодня теплее'}}, 'functions_state_id': '05e2925d-1a33-4c98-b86b-7aff6801a5c8'}, response_metadata={'token_usage': {'prompt_tokens': 1677, 'completion_tokens': 36, 'total_tokens': 1713}, 'model_name': 'GigaChat:1.0.26.20', 'finish_reason': 'function_call'}, id='run-baaadb09-94d1-4776-b609-ceba7ac82754-0', tool_calls=[{'name': 'tavily_search_results_json', 'args': {'query': 'погода сегодня теплее'}, 'id': '7fc196ae-963a-4b53-9a47-1c0c32f81372', 'type': 'tool_call'}])]}\n",
      "Calling: {'name': 'tavily_search_results_json', 'args': {'query': 'погода сегодня теплее'}, 'id': '7fc196ae-963a-4b53-9a47-1c0c32f81372', 'type': 'tool_call'}\n",
      "Back to the model!\n",
      "{'messages': [ToolMessage(content=\"[{'url': 'https://weather.rambler.ru/', 'content': 'Погода в городах России и мира. Точный и подробный прогноз на сегодня, завтра, выходные, неделю, 14 дней или месяц. ... Сегодня теплее, чем вчера и переменная облачность ... На сайте «Рамблер'}, {'url': 'https://www.meteoservice.ru/weather/today/rossiya', 'content': 'Сегодня днем будет теплее или холоднее, чем вчера? Как одеваться и брать ли зонтик? В разделе «Погода сегодня в России» предлагается простое и понятное решение в виде карточек на день и на'}]\", name='tavily_search_results_json', tool_call_id='7fc196ae-963a-4b53-9a47-1c0c32f81372')]}\n",
      "{'messages': [AIMessage(content='Сейчас нет возможности точно определить, в каком городе сегодня теплее. Могу помочь с информацией о погоде в других городах.', additional_kwargs={'functions_state_id': '958984f2-723c-48ec-b97e-7c2f7c575071'}, response_metadata={'token_usage': {'prompt_tokens': 1892, 'completion_tokens': 30, 'total_tokens': 1922}, 'model_name': 'GigaChat:1.0.26.20', 'finish_reason': 'stop'}, id='run-9ff251dc-adb6-4d0e-8f7d-67068b3acd21-0')]}\n"
     ]
    }
   ],
   "source": [
    "messages = [HumanMessage(content=\"Ну и где теплее?\")]\n",
    "thread = {\"configurable\": {\"thread_id\": \"1\"}}\n",
    "for event in abot.graph.stream({\"messages\": messages}, thread):\n",
    "    for v in event.values():\n",
    "        print(v)"
   ]
  },
  {
   "cell_type": "code",
   "execution_count": 32,
   "id": "0722c3d4-4cbf-43bf-81b0-50f634c4ce61",
   "metadata": {
    "height": 98
   },
   "outputs": [
    {
     "name": "stdout",
     "output_type": "stream",
     "text": [
      "{'messages': [AIMessage(content='', additional_kwargs={'function_call': {'name': 'tavily_search_results_json', 'arguments': {'query': 'where is it warmer'}}, 'functions_state_id': '1dc41216-b612-4d5c-bd65-013175187e3e'}, response_metadata={'token_usage': {'prompt_tokens': 193, 'completion_tokens': 36, 'total_tokens': 229}, 'model_name': 'GigaChat:1.0.26.20', 'finish_reason': 'function_call'}, id='run-67d1de35-c0f8-44fb-b7ee-d381f2293374-0', tool_calls=[{'name': 'tavily_search_results_json', 'args': {'query': 'where is it warmer'}, 'id': '71e0f969-4b84-4d1c-af72-1261f7abcdf5', 'type': 'tool_call'}])]}\n",
      "Calling: {'name': 'tavily_search_results_json', 'args': {'query': 'where is it warmer'}, 'id': '71e0f969-4b84-4d1c-af72-1261f7abcdf5', 'type': 'tool_call'}\n",
      "Back to the model!\n",
      "{'messages': [ToolMessage(content='[{\\'url\\': \\'https://www.climate.gov/news-features/understanding-climate/us-climate-outlook-january-2025\\', \\'content\\': \\'U.S. climate outlook for January 2025 | NOAA Climate.gov U.S. climate outlook for January 2025 On December 31, CPC released its updated monthly climate outlooks for temperature, precipitation, and drought across the United States for January 2025. The January temperature outlook favors well above average temperatures across parts of the western and central parts of the nation, in northern New England, and in southern Alaska. The precipitation outlook resembles a La Niña-like response over some of the key teleconnection regions of the U.S. Namely, the January outlook favors above-average precipitation in a region extending from the Pacific Northwest, across the northern Rockies to the northern and central Great Plains, in the Northeast, and in southern Alaska. climate outlook for January 2024\\'}, {\\'url\\': \\'https://www.nbcnews.com/select/shopping/best-hand-warmers-rcna181628\\', \\'content\\': \\'Catalytic hand warmers are fueled by lighter fluid to produce \"steady, long-lasting heat,\" says Bernard. After filling the warmer with fluid and sealing the fuel cap, you apply a flame to the\\'}]', name='tavily_search_results_json', tool_call_id='71e0f969-4b84-4d1c-af72-1261f7abcdf5')]}\n",
      "{'messages': [AIMessage(content='Текущие данные о температуре недоступны.', additional_kwargs={'functions_state_id': 'd4c370e8-5f1b-4d76-a386-ffe614b018f0'}, response_metadata={'token_usage': {'prompt_tokens': 591, 'completion_tokens': 16, 'total_tokens': 607}, 'model_name': 'GigaChat:1.0.26.20', 'finish_reason': 'stop'}, id='run-dc2169ad-ad04-4ddd-aabd-167e639e038b-0')]}\n"
     ]
    }
   ],
   "source": [
    "messages = [HumanMessage(content=\"Ну и где теплее?\")]\n",
    "thread = {\"configurable\": {\"thread_id\": \"2\"}}\n",
    "for event in abot.graph.stream({\"messages\": messages}, thread):\n",
    "    for v in event.values():\n",
    "        print(v)"
   ]
  },
  {
   "cell_type": "markdown",
   "id": "ace59a36-3941-459e-b9d1-ac5a4a1ed3ae",
   "metadata": {},
   "source": [
    "## Streaming tokens"
   ]
  },
  {
   "cell_type": "code",
   "execution_count": 35,
   "id": "0522de15",
   "metadata": {},
   "outputs": [
    {
     "name": "stdout",
     "output_type": "stream",
     "text": [
      "Collecting langgraph.checkpoint.sqlite\n",
      "  Downloading langgraph_checkpoint_sqlite-2.0.1-py3-none-any.whl.metadata (3.0 kB)\n",
      "Requirement already satisfied: aiosqlite<0.21.0,>=0.20.0 in c:\\users\\maksim\\appdata\\local\\programs\\python\\python39\\lib\\site-packages (from langgraph.checkpoint.sqlite) (0.20.0)\n",
      "Requirement already satisfied: langgraph-checkpoint<3.0.0,>=2.0.2 in c:\\users\\maksim\\appdata\\local\\programs\\python\\python39\\lib\\site-packages (from langgraph.checkpoint.sqlite) (2.0.9)\n",
      "Requirement already satisfied: typing_extensions>=4.0 in c:\\users\\maksim\\appdata\\local\\programs\\python\\python39\\lib\\site-packages (from aiosqlite<0.21.0,>=0.20.0->langgraph.checkpoint.sqlite) (4.12.2)\n",
      "Requirement already satisfied: langchain-core<0.4,>=0.2.38 in c:\\users\\maksim\\appdata\\local\\programs\\python\\python39\\lib\\site-packages (from langgraph-checkpoint<3.0.0,>=2.0.2->langgraph.checkpoint.sqlite) (0.3.29)\n",
      "Requirement already satisfied: msgpack<2.0.0,>=1.1.0 in c:\\users\\maksim\\appdata\\local\\programs\\python\\python39\\lib\\site-packages (from langgraph-checkpoint<3.0.0,>=2.0.2->langgraph.checkpoint.sqlite) (1.1.0)\n",
      "Requirement already satisfied: PyYAML>=5.3 in c:\\users\\maksim\\appdata\\local\\programs\\python\\python39\\lib\\site-packages (from langchain-core<0.4,>=0.2.38->langgraph-checkpoint<3.0.0,>=2.0.2->langgraph.checkpoint.sqlite) (6.0.2)\n",
      "Requirement already satisfied: jsonpatch<2.0,>=1.33 in c:\\users\\maksim\\appdata\\local\\programs\\python\\python39\\lib\\site-packages (from langchain-core<0.4,>=0.2.38->langgraph-checkpoint<3.0.0,>=2.0.2->langgraph.checkpoint.sqlite) (1.33)\n",
      "Requirement already satisfied: langsmith<0.3,>=0.1.125 in c:\\users\\maksim\\appdata\\local\\programs\\python\\python39\\lib\\site-packages (from langchain-core<0.4,>=0.2.38->langgraph-checkpoint<3.0.0,>=2.0.2->langgraph.checkpoint.sqlite) (0.1.147)\n",
      "Requirement already satisfied: packaging<25,>=23.2 in c:\\users\\maksim\\appdata\\local\\programs\\python\\python39\\lib\\site-packages (from langchain-core<0.4,>=0.2.38->langgraph-checkpoint<3.0.0,>=2.0.2->langgraph.checkpoint.sqlite) (24.1)\n",
      "Requirement already satisfied: pydantic<3.0.0,>=2.5.2 in c:\\users\\maksim\\appdata\\local\\programs\\python\\python39\\lib\\site-packages (from langchain-core<0.4,>=0.2.38->langgraph-checkpoint<3.0.0,>=2.0.2->langgraph.checkpoint.sqlite) (2.10.4)\n",
      "Requirement already satisfied: tenacity!=8.4.0,<10.0.0,>=8.1.0 in c:\\users\\maksim\\appdata\\local\\programs\\python\\python39\\lib\\site-packages (from langchain-core<0.4,>=0.2.38->langgraph-checkpoint<3.0.0,>=2.0.2->langgraph.checkpoint.sqlite) (8.5.0)\n",
      "Requirement already satisfied: jsonpointer>=1.9 in c:\\users\\maksim\\appdata\\local\\programs\\python\\python39\\lib\\site-packages (from jsonpatch<2.0,>=1.33->langchain-core<0.4,>=0.2.38->langgraph-checkpoint<3.0.0,>=2.0.2->langgraph.checkpoint.sqlite) (3.0.0)\n",
      "Requirement already satisfied: httpx<1,>=0.23.0 in c:\\users\\maksim\\appdata\\local\\programs\\python\\python39\\lib\\site-packages (from langsmith<0.3,>=0.1.125->langchain-core<0.4,>=0.2.38->langgraph-checkpoint<3.0.0,>=2.0.2->langgraph.checkpoint.sqlite) (0.27.2)\n",
      "Requirement already satisfied: orjson<4.0.0,>=3.9.14 in c:\\users\\maksim\\appdata\\local\\programs\\python\\python39\\lib\\site-packages (from langsmith<0.3,>=0.1.125->langchain-core<0.4,>=0.2.38->langgraph-checkpoint<3.0.0,>=2.0.2->langgraph.checkpoint.sqlite) (3.10.13)\n",
      "Requirement already satisfied: requests<3,>=2 in c:\\users\\maksim\\appdata\\local\\programs\\python\\python39\\lib\\site-packages (from langsmith<0.3,>=0.1.125->langchain-core<0.4,>=0.2.38->langgraph-checkpoint<3.0.0,>=2.0.2->langgraph.checkpoint.sqlite) (2.32.3)\n",
      "Requirement already satisfied: requests-toolbelt<2.0.0,>=1.0.0 in c:\\users\\maksim\\appdata\\local\\programs\\python\\python39\\lib\\site-packages (from langsmith<0.3,>=0.1.125->langchain-core<0.4,>=0.2.38->langgraph-checkpoint<3.0.0,>=2.0.2->langgraph.checkpoint.sqlite) (1.0.0)\n",
      "Requirement already satisfied: annotated-types>=0.6.0 in c:\\users\\maksim\\appdata\\local\\programs\\python\\python39\\lib\\site-packages (from pydantic<3.0.0,>=2.5.2->langchain-core<0.4,>=0.2.38->langgraph-checkpoint<3.0.0,>=2.0.2->langgraph.checkpoint.sqlite) (0.7.0)\n",
      "Requirement already satisfied: pydantic-core==2.27.2 in c:\\users\\maksim\\appdata\\local\\programs\\python\\python39\\lib\\site-packages (from pydantic<3.0.0,>=2.5.2->langchain-core<0.4,>=0.2.38->langgraph-checkpoint<3.0.0,>=2.0.2->langgraph.checkpoint.sqlite) (2.27.2)\n",
      "Requirement already satisfied: anyio in c:\\users\\maksim\\appdata\\local\\programs\\python\\python39\\lib\\site-packages (from httpx<1,>=0.23.0->langsmith<0.3,>=0.1.125->langchain-core<0.4,>=0.2.38->langgraph-checkpoint<3.0.0,>=2.0.2->langgraph.checkpoint.sqlite) (4.7.0)\n",
      "Requirement already satisfied: certifi in c:\\users\\maksim\\appdata\\local\\programs\\python\\python39\\lib\\site-packages (from httpx<1,>=0.23.0->langsmith<0.3,>=0.1.125->langchain-core<0.4,>=0.2.38->langgraph-checkpoint<3.0.0,>=2.0.2->langgraph.checkpoint.sqlite) (2024.8.30)\n",
      "Requirement already satisfied: httpcore==1.* in c:\\users\\maksim\\appdata\\local\\programs\\python\\python39\\lib\\site-packages (from httpx<1,>=0.23.0->langsmith<0.3,>=0.1.125->langchain-core<0.4,>=0.2.38->langgraph-checkpoint<3.0.0,>=2.0.2->langgraph.checkpoint.sqlite) (1.0.7)\n",
      "Requirement already satisfied: idna in c:\\users\\maksim\\appdata\\local\\programs\\python\\python39\\lib\\site-packages (from httpx<1,>=0.23.0->langsmith<0.3,>=0.1.125->langchain-core<0.4,>=0.2.38->langgraph-checkpoint<3.0.0,>=2.0.2->langgraph.checkpoint.sqlite) (3.10)\n",
      "Requirement already satisfied: sniffio in c:\\users\\maksim\\appdata\\local\\programs\\python\\python39\\lib\\site-packages (from httpx<1,>=0.23.0->langsmith<0.3,>=0.1.125->langchain-core<0.4,>=0.2.38->langgraph-checkpoint<3.0.0,>=2.0.2->langgraph.checkpoint.sqlite) (1.3.1)\n",
      "Requirement already satisfied: h11<0.15,>=0.13 in c:\\users\\maksim\\appdata\\local\\programs\\python\\python39\\lib\\site-packages (from httpcore==1.*->httpx<1,>=0.23.0->langsmith<0.3,>=0.1.125->langchain-core<0.4,>=0.2.38->langgraph-checkpoint<3.0.0,>=2.0.2->langgraph.checkpoint.sqlite) (0.14.0)\n",
      "Requirement already satisfied: charset-normalizer<4,>=2 in c:\\users\\maksim\\appdata\\local\\programs\\python\\python39\\lib\\site-packages (from requests<3,>=2->langsmith<0.3,>=0.1.125->langchain-core<0.4,>=0.2.38->langgraph-checkpoint<3.0.0,>=2.0.2->langgraph.checkpoint.sqlite) (3.4.0)\n",
      "Requirement already satisfied: urllib3<3,>=1.21.1 in c:\\users\\maksim\\appdata\\local\\programs\\python\\python39\\lib\\site-packages (from requests<3,>=2->langsmith<0.3,>=0.1.125->langchain-core<0.4,>=0.2.38->langgraph-checkpoint<3.0.0,>=2.0.2->langgraph.checkpoint.sqlite) (2.2.3)\n",
      "Requirement already satisfied: exceptiongroup>=1.0.2 in c:\\users\\maksim\\appdata\\roaming\\python\\python39\\site-packages (from anyio->httpx<1,>=0.23.0->langsmith<0.3,>=0.1.125->langchain-core<0.4,>=0.2.38->langgraph-checkpoint<3.0.0,>=2.0.2->langgraph.checkpoint.sqlite) (1.2.2)\n",
      "Downloading langgraph_checkpoint_sqlite-2.0.1-py3-none-any.whl (12 kB)\n",
      "Installing collected packages: langgraph.checkpoint.sqlite\n",
      "Successfully installed langgraph.checkpoint.sqlite-2.0.1\n"
     ]
    }
   ],
   "source": [
    "!pip install langgraph.checkpoint.sqlite"
   ]
  },
  {
   "cell_type": "code",
   "execution_count": 52,
   "id": "6b2f82fe-3ec4-4917-be51-9fb10d1317fa",
   "metadata": {
    "height": 81
   },
   "outputs": [],
   "source": [
    "import asyncio\n",
    "from contextlib import AsyncExitStack\n",
    "from langgraph.checkpoint.sqlite.aio import AsyncSqliteSaver\n",
    "\n",
    "stack = AsyncExitStack()\n",
    "memory = await stack.enter_async_context(AsyncSqliteSaver.from_conn_string(\":memory:\"))\n",
    "\n",
    "abot = Agent(model, [tool], system=prompt, checkpointer=memory)"
   ]
  },
  {
   "cell_type": "code",
   "execution_count": 56,
   "id": "ee0fe1c7-77e2-499c-a2f9-1f739bb6ddf0",
   "metadata": {
    "height": 200
   },
   "outputs": [
    {
     "name": "stdout",
     "output_type": "stream",
     "text": [
      "Calling: {'name': 'tavily_search_results_json', 'args': {'query': 'погода в Санкт-Петербурге'}, 'id': '7e6aac7f-cea2-4566-9003-929ea9ab5612', 'type': 'tool_call'}\n",
      "Back to the model!\n"
     ]
    }
   ],
   "source": [
    "messages = [HumanMessage(content=\"Какая погода в Санкт-Петербурге?\")]\n",
    "thread = {\"configurable\": {\"thread_id\": \"4\"}}\n",
    "async for event in abot.graph.astream_events({\"messages\": messages}, thread, version=\"v1\"):\n",
    "    kind = event[\"event\"]\n",
    "    if kind == \"on_chat_model_stream\":\n",
    "        content = event[\"data\"][\"chunk\"].content\n",
    "        if content:\n",
    "            # Empty content in the context of OpenAI means\n",
    "            # that the model is asking for a tool to be invoked.\n",
    "            # So we only print non-empty content\n",
    "            print(content, end=\"|\")"
   ]
  }
 ],
 "metadata": {
  "kernelspec": {
   "display_name": "Python 3",
   "language": "python",
   "name": "python3"
  },
  "language_info": {
   "codemirror_mode": {
    "name": "ipython",
    "version": 3
   },
   "file_extension": ".py",
   "mimetype": "text/x-python",
   "name": "python",
   "nbconvert_exporter": "python",
   "pygments_lexer": "ipython3",
   "version": "3.9.13"
  }
 },
 "nbformat": 4,
 "nbformat_minor": 5
}
